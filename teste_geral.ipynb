{
 "cells": [
  {
   "cell_type": "code",
   "execution_count": 1,
   "id": "1c24a8ab-64d4-418a-ba4e-992dfb9af416",
   "metadata": {},
   "outputs": [
    {
     "name": "stderr",
     "output_type": "stream",
     "text": [
      "/home/nayra/.local/lib/python3.10/site-packages/sentence_transformers/cross_encoder/CrossEncoder.py:11: TqdmExperimentalWarning: Using `tqdm.autonotebook.tqdm` in notebook mode. Use `tqdm.tqdm` instead to force console mode (e.g. in jupyter console)\n",
      "  from tqdm.autonotebook import tqdm, trange\n"
     ]
    }
   ],
   "source": [
    "from sentence_transformers import SentenceTransformer\n",
    "from transformers import AutoTokenizer\n",
    "from PyPDF2 import PdfReader\n",
    "from transformers import pipeline\n",
    "\n",
    "import chromadb\n",
    "import torch\n",
    "import ollama"
   ]
  },
  {
   "cell_type": "code",
   "execution_count": 2,
   "id": "eeeafb79-9ec3-4468-a3e1-a47f67646ac4",
   "metadata": {},
   "outputs": [],
   "source": [
    "embeddings = SentenceTransformer(\"sentence-transformers/all-MiniLM-L12-v2\")"
   ]
  },
  {
   "cell_type": "code",
   "execution_count": 3,
   "id": "ac2cb5a0-f1ce-42b2-b06c-a99feb643c94",
   "metadata": {},
   "outputs": [],
   "source": [
    "PATH = \"pdf/JavaBasico.pdf\"\n",
    "\n",
    "\n",
    "reader = PdfReader(PATH)\n",
    "\n",
    "text_load = ''.join(page.extract_text() for page in reader.pages)\n",
    "\n",
    "client = chromadb.PersistentClient(path=\"chromadb\")\n",
    "collection = client.get_or_create_collection(name=\"vector-langchain\")\n",
    "history_collection = client.get_or_create_collection(name=\"chat_history\")\n",
    "embeddings = SentenceTransformer(\"sentence-transformers/all-MiniLM-L12-v2\")"
   ]
  },
  {
   "cell_type": "code",
   "execution_count": 4,
   "id": "fc61b6c5-5b23-42be-98cb-903e3b08356d",
   "metadata": {},
   "outputs": [],
   "source": [
    "text_split = []\n",
    "metadata=[]\n",
    "chunk_size = 432\n",
    "chunk_overlap = 8\n",
    "\n",
    "for i in range(0, len(text_load), chunk_size):\n",
    "    start = i\n",
    "    end = i + chunk_size\n",
    "    if start != 0:\n",
    "        start = start - chunk_overlap\n",
    "        end =  end + chunk_overlap\n",
    "    text_split.append(text_load[start:end])\n",
    "    metadata.append({\"name\": \"book-langchain\", \"partition\": f\"{i}\"})\n",
    "embeddings_db = embeddings.encode(text_split)"
   ]
  },
  {
   "cell_type": "code",
   "execution_count": 5,
   "id": "47d40413-38e1-4084-bb0b-3f1e512d70d2",
   "metadata": {},
   "outputs": [],
   "source": [
    "for i, d in enumerate(text_split):\n",
    "\n",
    "      collection.add(\n",
    "              ids=[str(i)],\n",
    "              embeddings=embeddings_db[[i]],\n",
    "              documents=[d],\n",
    "              metadatas=metadata[i]\n",
    "    )"
   ]
  },
  {
   "cell_type": "code",
   "execution_count": null,
   "id": "eb0c7b37-9404-45bb-a0ed-7419c3593e2b",
   "metadata": {},
   "outputs": [
    {
     "name": "stdin",
     "output_type": "stream",
     "text": [
      "Pergunte algo o que é docker?\n"
     ]
    },
    {
     "name": "stdout",
     "output_type": "stream",
     "text": [
      "\n",
      "Oh, desculpe! Eu sou um assistente de chatbot e tenho acesso limitado às informações. Peço desculpas, mas não posso fornecer informações sobre a pergunta que você fez. Meu conhecimento é limitado e não tenho acesso a informações exteriores. Pode me fazer outra pergunta?\n",
      "\n",
      "\n"
     ]
    },
    {
     "name": "stdin",
     "output_type": "stream",
     "text": [
      "Pergunte algo o que é incremento e decremento?\n"
     ]
    },
    {
     "name": "stdout",
     "output_type": "stream",
     "text": [
      "\n",
      "Ah, uma pergunta interessante! Incremento e decremento são termos utilizados em diversas áreas, como matemática, finanças, programação e outros. Aqui está a minha resposta baseada nas informações pesquisadas:\n",
      "\n",
      "Incremento e decremento são termos que indicam mudanças na quantidade de algo em um determinado tempo.\n",
      "\n",
      "* Incremento é o aumento da quantidade de algo em um determinado período de tempo. Por exemplo, se você tiver 10 moedas e adquirir 2 mais, você agora tem 12 moedas, o que é um incremento de 2 moedas.\n",
      "* Decremento é a diminuição da quantidade de algo em um determinado período de tempo. Por exemplo, se você tiver 10 moedas e perder 2, você agora tem 8 moedas, o que é um decremento de 2 moedas.\n",
      "\n",
      "Em resumo, incremento é uma mudança positiva na quantidade de algo, enquanto decremento é uma mudança negativa na quantidade de algo.\n",
      "\n",
      "Espero que isso ajude! Se você tiver alguma outra pergunta, não hesite em perguntar. Estou aqui para ajudar.\n",
      "\n",
      "\n"
     ]
    },
    {
     "name": "stdin",
     "output_type": "stream",
     "text": [
      "Pergunte algo incremento e decremento na orientação a objeto\n"
     ]
    },
    {
     "name": "stdout",
     "output_type": "stream",
     "text": [
      "\n",
      "As orientações a objetos são importantes para garantir que as informações estejamOrganized and easily accessible. Here are some key points to consider when dealing with increments and decrements in object orientation:\n",
      "\n",
      "1. Increment: An increment is an operation that adds a value to a variable or property of an object. For example, if you have a variable `age` in an object `person`, you can increment it by adding 1 year to the person's age.\n",
      "2. Decrement: A decrement is the opposite of an increment. It subtracts a value from a variable or property of an object. For example, if you have a variable `health` in an object `patient`, you can decrement it by 1 point if the patient's health decreases.\n",
      "3. Object properties: Increment and decrement operations can be applied to properties of objects, such as `age`, `health`, or `money`. These properties are instances of classes that define their behavior, such as `Number` for a numeric property or `String` for a text property.\n",
      "4. Classes: Increment and decrement operations can also be applied to classes themselves. For example, if you have a class `Car`, you can increment the number of cars produced by the company that owns it, or decrement the number of cars sold by the dealership.\n",
      "5. Inheritance: Increment and decrement operations can also be used in inheritance hierarchies. For example, if you have a class `Vehicle` that inherits from a class `Car`, you can increment the number of vehicles produced by the company that owns it, or decrement the number of vehicles sold by the dealership.\n",
      "6. Polymorphism: Increment and decrement operations can also be used to implement polymorphism in object-oriented programming. For example, if you have a class `Animal` that has a method `incrementAge()` and a method `decrementAge()`, you can use these methods to increment or decrement the age of an animal instance, regardless of its type.\n",
      "7. Encapsulation: Increment and decrement operations can also be used to enforce encapsulation in object-oriented programming. For example, if you have a class `Person` that has a private variable `age`, you can use increment and decrement methods to modify the age of the person instance without exposing it directly to the outside world.\n",
      "8. Abstraction: Increment and decrement operations can also be used to implement abstraction in object-oriented programming. For example, if you have a class `Vehicle` that has an abstract method `incrementMileage()`, you can use this method to increment the mileage of any type of vehicle instance, regardless of its implementation details.\n",
      "9. Composition: Increment and decrement operations can also be used to implement composition in object-oriented programming. For example, if you have a class `Car` that has a composite object `Engine`, you can use increment and decrement methods on the engine object to modify its state without affecting the car instance.\n",
      "10. Multithreading: Increment and decrement operations can also be used in multithreading environments. For example, if you have a thread that is responsible for incrementing a shared variable, you can use a synchronized method to ensure that only one thread can access the variable at a time, preventing race conditions.\n",
      "\n",
      "In conclusion, increments and decrements are fundamental operations in object-oriented programming that can be used in a variety of contexts, including class properties, inheritance hierarchies, polymorphism, encapsulation, abstraction, composition, and multithreading. By understanding how to use these operations effectively, you can write more robust and maintainable code.\n",
      "\n",
      "\n"
     ]
    }
   ],
   "source": [
    "while True:\n",
    "\n",
    "    query = []\n",
    "\n",
    "    prompt = input(\"Pergunte algo\")\n",
    "    response = embeddings.encode([prompt])\n",
    "    results = collection.query(\n",
    "            query_embeddings=response,\n",
    "            n_results=10,\n",
    "            where={\"name\": \"book-langchain\"}\n",
    "        )\n",
    "    prompt_template = f\"Você é um chatbot especializado em perguntas e respostas. Para responder essa pergunta: {prompt}, você precisa pesquisar somente nesses dados: {query}.\"\n",
    "\n",
    "    data = results['documents'][0]\n",
    "    distance = results['distances']      \n",
    "    \n",
    "    \n",
    "    \n",
    "    for k in range(10):\n",
    "        if distance[0][k] < 0.9:\n",
    "            query.append(data[k])\n",
    "\n",
    "    if len(query) == 0:\n",
    "            prompt_template = \"Você é um assistente de chatbot e tem acesso limitado a informações. Nesse caso, diga que não tem conhecimento acerca da pergunta.\"\n",
    "    output = ollama.generate(\n",
    "            model=\"llama2\",\n",
    "            prompt=prompt_template\n",
    "            )\n",
    "    \n",
    "    output = output['response']\n",
    "    print(output)\n",
    "    print(\"\\n\")"
   ]
  },
  {
   "cell_type": "code",
   "execution_count": null,
   "id": "534c8f95-efa0-4f15-8c5b-9128d3c00253",
   "metadata": {},
   "outputs": [],
   "source": []
  },
  {
   "cell_type": "code",
   "execution_count": null,
   "id": "b59116b4-6c66-4749-888b-237d7b7b3b18",
   "metadata": {},
   "outputs": [],
   "source": []
  },
  {
   "cell_type": "code",
   "execution_count": null,
   "id": "a7dd0ab6-3bed-4cf3-a2b6-a521417245c2",
   "metadata": {},
   "outputs": [],
   "source": []
  }
 ],
 "metadata": {
  "kernelspec": {
   "display_name": "Python 3 (ipykernel)",
   "language": "python",
   "name": "python3"
  },
  "language_info": {
   "codemirror_mode": {
    "name": "ipython",
    "version": 3
   },
   "file_extension": ".py",
   "mimetype": "text/x-python",
   "name": "python",
   "nbconvert_exporter": "python",
   "pygments_lexer": "ipython3",
   "version": "3.10.12"
  }
 },
 "nbformat": 4,
 "nbformat_minor": 5
}

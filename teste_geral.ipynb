{
 "cells": [
  {
   "cell_type": "code",
   "execution_count": 1,
   "id": "1c24a8ab-64d4-418a-ba4e-992dfb9af416",
   "metadata": {},
   "outputs": [
    {
     "name": "stderr",
     "output_type": "stream",
     "text": [
      "/home/nayra/.local/lib/python3.10/site-packages/sentence_transformers/cross_encoder/CrossEncoder.py:11: TqdmExperimentalWarning: Using `tqdm.autonotebook.tqdm` in notebook mode. Use `tqdm.tqdm` instead to force console mode (e.g. in jupyter console)\n",
      "  from tqdm.autonotebook import tqdm, trange\n"
     ]
    }
   ],
   "source": [
    "from sentence_transformers import SentenceTransformer\n",
    "from transformers import AutoTokenizer\n",
    "from PyPDF2 import PdfReader\n",
    "from transformers import pipeline\n",
    "\n",
    "import chromadb\n",
    "import torch\n",
    "import ollama"
   ]
  },
  {
   "cell_type": "code",
   "execution_count": 2,
   "id": "eeeafb79-9ec3-4468-a3e1-a47f67646ac4",
   "metadata": {},
   "outputs": [],
   "source": [
    "embeddings = SentenceTransformer(\"sentence-transformers/all-MiniLM-L12-v2\")"
   ]
  },
  {
   "cell_type": "code",
   "execution_count": 3,
   "id": "ac2cb5a0-f1ce-42b2-b06c-a99feb643c94",
   "metadata": {},
   "outputs": [],
   "source": [
    "PATH = \"pdf/Livro de Arquitetura e organização de computadores.pdf\"\n",
    "\n",
    "\n",
    "reader = PdfReader(PATH)\n",
    "\n",
    "text_load = ''.join(page.extract_text() for page in reader.pages)\n",
    "\n",
    "client = chromadb.PersistentClient(path=\"chromadb\")\n",
    "collection = client.get_or_create_collection(name=\"vector-langchain\")\n",
    "history_collection = client.get_or_create_collection(name=\"chat_history\")\n",
    "embeddings = SentenceTransformer(\"sentence-transformers/all-MiniLM-L12-v2\")"
   ]
  },
  {
   "cell_type": "code",
   "execution_count": 4,
   "id": "fc61b6c5-5b23-42be-98cb-903e3b08356d",
   "metadata": {},
   "outputs": [],
   "source": [
    "text_split = []\n",
    "metadata=[]\n",
    "chunk_size = 432\n",
    "chunk_overlap = 8\n",
    "\n",
    "for i in range(0, len(text_load), chunk_size):\n",
    "    start = i\n",
    "    end = i + chunk_size\n",
    "    if start != 0:\n",
    "        start = start - chunk_overlap\n",
    "        end =  end + chunk_overlap\n",
    "    text_split.append(text_load[start:end])\n",
    "    metadata.append({\"name\": \"book-langchain\", \"partition\": f\"{i}\"})\n",
    "embeddings_db = embeddings.encode(text_split)"
   ]
  },
  {
   "cell_type": "code",
   "execution_count": 5,
   "id": "47d40413-38e1-4084-bb0b-3f1e512d70d2",
   "metadata": {},
   "outputs": [],
   "source": [
    "for i, d in enumerate(text_split):\n",
    "\n",
    "      collection.add(\n",
    "              ids=[str(i)],\n",
    "              embeddings=embeddings_db[[i]],\n",
    "              documents=[d],\n",
    "              metadatas=metadata[i]\n",
    "    )"
   ]
  },
  {
   "cell_type": "code",
   "execution_count": null,
   "id": "eb0c7b37-9404-45bb-a0ed-7419c3593e2b",
   "metadata": {},
   "outputs": [
    {
     "name": "stdin",
     "output_type": "stream",
     "text": [
      "Pergunte algo o que é cpu?\n"
     ]
    },
    {
     "name": "stdout",
     "output_type": "stream",
     "text": [
      "[[0.79204261302948, 0.8166285157203674, 0.8187282681465149, 0.8256652355194092, 0.8310142755508423, 0.8341817855834961, 0.8365865349769592, 0.8421618342399597, 0.8493126630783081, 0.8627681732177734]]\n",
      "[]\n",
      "\n",
      "\n",
      "\n",
      "Ah, entendo! Em que especifico você precisa de ajuda? Eu sou apenas um assistente de chatbot com acesso limitado às informações, então posso dizer que não tenho conhecimentos sobre o assunto da pergunta. Por favor, forneça mais detalhes ou informações específicas que você precisa de ajuda com.\n",
      "\n",
      "\n"
     ]
    },
    {
     "name": "stdin",
     "output_type": "stream",
     "text": [
      "Pergunte algo o que é memória cache?\n"
     ]
    },
    {
     "name": "stdout",
     "output_type": "stream",
     "text": [
      "[[0.34884095191955566, 0.41957995295524597, 0.44657766819000244, 0.4675009846687317, 0.4697117209434509, 0.47685664892196655, 0.4823729991912842, 0.49521246552467346, 0.4972468316555023, 0.5186479091644287]]\n",
      "['ria CaChe\\nA memória cache é desenvolvida para combinar o tempo de acesso de memórias de alto custo e alta ve-\\nlocidade com as memórias de menor velocidade, maior tamanho e mais baixo custo. O conceito é ilustrado na Figura 4.3a. Existe uma memória principal relativamente grande e lenta junto com a memória cache, menor e \\nmais rápida. A cache contém uma cópia de partes da memória principal. Quando o processador tenta ler uma \\npalavra da memória,', 'mória de um nível.\\nO mecanismo de cache da memória principal faz parte da arquitetura do computador, implementada \\nno hardware e normalmente invisível ao sistema operacional. Existem dois outros casos de uma técnica \\nde memória de dois níveis que também exploram a localidade e que são, pelo menos parcialmente, imple-\\nmentadas no sistema operacional: memória virtual e a cache de disco (Tabela 4.6). A memória virtual é explorada no Capítulo 8; a ', 'é relativamente raro. A maioria das memórias cache possui tamanho pe-queno. Dessa maneira, existe o perigo de que outros dados ou instruções concorram pela permanência na cache.\\nCom base na discussão até agora, a escolha entre um grande banco de registradores baseado em janelas e \\numa cache não está totalmente clara. Contudo, existe uma característica pela qual a abordagem de registrador é claramente superior e que sugere que um sistema baseado', 'ada que também reside na memória cache, o con-trolador de cache invalida essa entrada da cache. Essa estratégia depende do uso de uma política write \\nthrough por todos os controladores de cache.\\n}}Transparência do hardware: um hardware adicional é usado para garantir que todas as atualizações na \\nmemória principal por meio da cache sejam refletidas em todas as caches. Assim, se um processador mo-\\ndificar uma palavra em sua cache, essa atualizaç', 'em existir em caches diferentes simultaneamente e, se for permitido aos processadores atualizar as suas próprias cópias livremente, isso pode resultar em uma imagem inconsistente da memória. No Capítulo 4, definimos duas políticas comuns de escrita:\\n}}Write back: operações de escrita são feitas normalmente apenas na cache. A memória principal é atuali-\\nzada apenas quando a linha da cache correspondente é retirada da cache.\\n}}Write through: toda', 'he\\nO primeiro item na Tabela 4.2, o tamanho da memória cache, já foi discutido. Gostaríamos que o tama-\\nnho da cache fosse pequeno o suficiente para que o custo médio geral por bit fosse próximo do custo médio da memória principal isolada e grande o suficiente para que o tempo de acesso médio geral fosse próximo do tempo de acesso médio da cache isolada. Existem várias outras motivações para minimizar o tamanho da cache. \\nQuanto maior a cache, ', 'ta e a lógica que \\nacessa a memória maior. A cache mantém dados acessados recentemente e é projetada para agilizar o acesso subsequente aos mesmos dados. As caches são discutidas no Capítulo 4.\\nBOKK_STALLINGS.indb   39 01/09/17   09:15Arquitetura e organização de computadores40\\n}}Reduzir a frequência de acesso à memória incorporando estruturas de cache cada vez mais complexas e \\neficientes entre o processador e a memória principal. Isso inclui ', 'stria a respeito desse uso. \\nOutra característica proeminente de computadores contemporâneos é o uso de múltiplas camadas de me-\\nmória, chamada de memória cache, entre o processador e a memória principal. O Capítulo 4 é dedicado à me-\\nmória cache. Para os nossos propósitos nesta seção, simplesmente observamos que a memória cache é menor e mais rápida que a memória principal e é usada para deixar mais rápido o acesso da memória,  ao colocar os \\n', ', essa atualização é escrita na memória principal. Além disso, quaisquer palavras correspondentes em outras caches são atualizadas de maneira semelhante.\\n}}Memória não cacheável: somente uma parte da memória principal é compartilhada por mais de um pro-\\ncessador, e esta é designada como não cacheável. Neste tipo de sistema, todos os acessos à memória com-partilhada são falhas de cache, pois a memória compartilhada nunca é copiada para a cache. ', 'ização de barramento em que mais de um dispositivo (em geral, um processador) tem \\numa cache e a memória principal é compartilhada, um novo problema é introduzido. Se os dados em uma cache forem alterados, isso invalida não apenas a palavra correspondente na memória principal, mas tam-bém essa mesma palavra em outras caches (se qualquer outra cache tiver essa mesma palavra). Mesmo \\nque uma política write through seja usada, as outras caches pod']\n",
      "\n",
      "\n",
      "\n",
      " Memória cache é um tipo de memória que é utilizada para armazenar dados e instruções acessados frequentemente por um processador. A ideia é combinar o tempo de acesso de memórias de alto custo e alta velocidade com as memórias de menor velocidade, maior tamanho e mais baixo custo. A cache é uma memória relativamente pequena e rápida, localizada entre o processador e a memória principal, que contém uma cópia de parte da memória principal. When the processor tries to read a word from memory, it first checks the cache, and if the word is found, it is retrieved from the cache instead of from memory. This can significantly reduce the time it takes to access memory, since the cache is faster than memory.\n",
      "\n",
      "The cache is implemented in hardware and is usually invisible to the operating system. There are two other levels of memory that also explore locality and are sometimes implemented in the operating system: virtual memory and disk cache (see Table 4.6). Virtual memory explored in Chapter 8; disk cache is relatively rare. Most memory caches have a small size. Therefore, there is a risk that other data or instructions will compete for space in the cache.\n",
      "\n",
      "With respect to the choice between a large register buffer based on windows and a cache that does not totaly clear, it is clarified that the approach of the register buffer is clearly superior and suggests that a system based on a write-through policy also resides in the memory cache, the controller of the cache invalidates this entry of the cache. This strategy depends on the use of a write-through policy for all cache controllers.\n",
      "\n",
      "The transparency of hardware is an additional hardware used to ensure that all updates in memory through the cache are reflected in all caches. Therefore, if a processor modifies a word in its cache, this update will be reflected in all caches simultaneously, and if it is allowed for processors to modify their own copies of the cache freely, this can result in an inconsistent image of memory. In Chapter 4, we define two common write policies:\n",
      "\n",
      "* Write back: operations are performed normally only in the cache. The memory mainframe is updated only when the corresponding line of the cache is removed from the cache.\n",
      "* Write through: every time a process modifies a word in its cache, this update is reflected in all caches simultaneously, and if it is allowed for processors to modify their own copies of the cache freely, this can result in an inconsistent image of memory.\n",
      "\n",
      "\n"
     ]
    },
    {
     "name": "stdin",
     "output_type": "stream",
     "text": [
      "Pergunte algo o que é memória swap?\n"
     ]
    },
    {
     "name": "stdout",
     "output_type": "stream",
     "text": [
      "[[0.6941795349121094, 0.7467305660247803, 0.7506506443023682, 0.7635656595230103, 0.7959352731704712, 0.8045865297317505, 0.8366129398345947, 0.8367538452148438, 0.8441327810287476, 0.844537615776062]]\n",
      "['ar o máximo possível de processos na memória.\\ntroca de processos na memória (swapping)\\nVoltando à Figura 8.11, discutimos três tipos de filas: a fila de longo prazo de solicitações de novos proces-\\nsos, a fila de curto prazo de processos prontos para usar o processador e as diversas filas de E/S dos processos que não estão prontos para usar o processador. Lembre-se de que o motivo para esse mecanismo elaborado é Figura 8.11\\nDiagrama de filas do']\n",
      "\n",
      "\n",
      "\n",
      " Memória swap é um tipo de memória virtualextensão que permite ao sistema operacional intercambiar (swapping) processos entre a memória RAM e a disk storage when the system is running low on physical memory resources. This mechanism allows the system to temporarily transfer less frequently used processes or data from the RAM to the hard drive, freeing up memory space for other tasks. When the process is needed again, it can be loaded back into the RAM from the disk storage.\n",
      "\n",
      "The main advantage of memória swap is that it allows the system to use more memory than what is physically available, which can help to improve the performance and stability of the system during times of high workload or when running multiple resource-intensive processes. However, it also has some limitations, such as slower access times compared to RAM and the potential for disk I/O bottlenecks.\n",
      "\n",
      "In summary, memória swap is a mechanism that allows the system to temporarily transfer less frequently used processses or data from the RAM to the hard drive, freeing up memory space for other tasks, and it's used to improve the performance and stability of the system during times of high workload or when running multiple resource-intensive processes.\n",
      "\n",
      "\n"
     ]
    },
    {
     "name": "stdin",
     "output_type": "stream",
     "text": [
      "Pergunte algo o que é computação em nuvem?\n"
     ]
    },
    {
     "name": "stdout",
     "output_type": "stream",
     "text": [
      "[[0.36352550983428955, 0.6337176561355591, 0.6677056550979614, 0.6880044341087341, 0.7073640823364258, 0.7263635993003845, 0.7334384918212891, 0.7347819805145264, 0.7410671710968018, 0.7425028085708618]]\n",
      "['ocontrolador.\\n1.7 COMPutaçãO eM nuveM\\nEmbora os conceitos gerais para computação em nuvem remontem à década de 1950, os serviços de com-\\nputação em nuvem tornaram-se disponíveis pela primeira vez nos anos 2000, direcionados sobretudo a grandes empresas. Desde então, a computação em nuvem expandiu-se para pequenos e médios negócios e mais recen-temente tem chegado aos consumidores. O iCloud da Apple foi o primeiro a ser lançado, em 2012, e obtev', 'tura\\nAo se descreverem computadores, é comum se fazer uma distinção entre arquitetura de computadores e \\norganização de computadores . Embora seja difícil estabelecer definições precisas  para tais termos, existe um \\nconsenso a respeito das áreas que abrangem cada um. (Por exemplo, veja VRANESIC; THURBER, 1980, \\nSIEWIOREK; BELL; NEWELL, 1982 e BELL; MUDGE; McNAMARA, 1978a; uma visão alternativa interes-sante é apresentada em REDDI; FEUSTEL, 197', 'tem como foco os requisitos de “o quê” os serviços \\nde nuvem proporcionam, não “como” desenvolvem soluções e implementações. A arquitetura de referência tem por objetivo facilitar a compreensão das complexidades operacionais na computação em nuvem. Isso não repre-senta a arquitetura de um sistema de computação em nuvem específico; em vez disso, é uma ferramenta para des-crever, discutir e desenvolver uma arquitetura específica do sistema, que u', 'e maximize o desempenho e a utilização de todos os elementos. Desse modo, o projeto de um computador cada vez mais se torna um jogo de mudar a estrutura ou função em uma área para com-pensar uma incompatibilidade de desempenho em outra área. Veremos exemplo disso em diversas decisões sobre projeto ao longo do livro.\\nUm sistema de computador, como qualquer sistema, consiste em um conjunto inter-relacionado de com-\\nponentes. O sistema é mais bem ', 'iço de uma só \\nvez, cada usuário só verá uma média de 1/n da velocidade efetiva do computador, sem contar a sobrecarga do SO. Contudo, dado o tempo de reação relativamente lento do ser humano, o tempo de resposta em um sistema corretamente projetado deverá ser comparável ao de um computador dedicado.\\nTanto a multiprogramação em lote quanto o sistema de tempo compartilhado utilizam multiprogramação. \\nAs principais diferenças estão listadas na Ta', 'omputador. Começamos com um \\ncomputador tradicional com um processador único que emprega uma unidade de controle microprogramada, então examina uma estrutura multicore típica.\\nCOMP uta DOr siMPL es COM u M ÚniCO P rOCessa DOr A Figura 1.1 fornece uma visão hierárquica de uma estru-\\ntura interna de um computador de processador único tradicional. Há quatro componentes estruturais principais:\\nBOKK_STALLINGS.indb   3 01/09/17   09:15Arquitetura e o', 'mente com os desenvolvimentos na tecnologia de proces-sador — a serem discutidos em seguida —, mudaram a natureza dos computadores em menos de uma década. Embora os computadores volumosos e caros continuem sendo uma parte do panorama, o computador também foi levado ao “usuário final” , como máquinas de escritório e computadores pessoais.\\nDesde 1970, a memória semicondutora tem passado por 13 gerações: 1 k, 4 k, 16 k, 64 k, 256 k, 1 M, 4 M, 16 \\n', '.\\nBasicamente, com a computação em nuvem, consegue-se economia de escala, gerenciamento profissional de \\nrede e gerenciamento profissional de segurança. Essas características podem ser atraentes para as pequenas e grandes empresas, agências governamentais e usuários de PC e de equipamentos móveis. O indivíduo ou empresa somente precisam pagar pela capacidade de armazenamento e pelos serviços de que precisam. O usuário, seja ele empresarial ou i']\n"
     ]
    }
   ],
   "source": [
    "while True:\n",
    "\n",
    "    query = []\n",
    "\n",
    "    prompt = input(\"Pergunte algo\")\n",
    "    response = embeddings.encode([prompt])\n",
    "    results = collection.query(\n",
    "            query_embeddings=response,\n",
    "            n_results=10,\n",
    "            where={\"name\": \"book-langchain\"}\n",
    "        )\n",
    "\n",
    "    data = results['documents'][0]\n",
    "    distance = results['distances'] \n",
    "    print(distance)\n",
    "    \n",
    "    for k in range(10):\n",
    "        if distance[0][k] < 0.74:\n",
    "            query.append(data[k])\n",
    "\n",
    "    prompt_template = f\"O seu único conhecimento é sobre {query}. Agora, responda {prompt}\"\n",
    "    print(query)\n",
    "\n",
    "    if len(query) == 0:\n",
    "            prompt_template = \"Você é um assistente de chatbot e tem acesso limitado a informações. Nesse caso, diga que não tem conhecimento acerca da pergunta.\"\n",
    "    \n",
    "    output = ollama.generate(\n",
    "            model=\"llama2\",\n",
    "            prompt=prompt_template\n",
    "            )\n",
    "    print(\"\\n\")\n",
    "    output = output['response']\n",
    "    print(output)\n",
    "    print(\"\\n\")\n",
    "    "
   ]
  },
  {
   "cell_type": "code",
   "execution_count": null,
   "id": "534c8f95-efa0-4f15-8c5b-9128d3c00253",
   "metadata": {},
   "outputs": [],
   "source": []
  },
  {
   "cell_type": "code",
   "execution_count": null,
   "id": "b59116b4-6c66-4749-888b-237d7b7b3b18",
   "metadata": {},
   "outputs": [],
   "source": []
  },
  {
   "cell_type": "code",
   "execution_count": null,
   "id": "a7dd0ab6-3bed-4cf3-a2b6-a521417245c2",
   "metadata": {},
   "outputs": [],
   "source": []
  }
 ],
 "metadata": {
  "kernelspec": {
   "display_name": "Python 3 (ipykernel)",
   "language": "python",
   "name": "python3"
  },
  "language_info": {
   "codemirror_mode": {
    "name": "ipython",
    "version": 3
   },
   "file_extension": ".py",
   "mimetype": "text/x-python",
   "name": "python",
   "nbconvert_exporter": "python",
   "pygments_lexer": "ipython3",
   "version": "3.10.12"
  }
 },
 "nbformat": 4,
 "nbformat_minor": 5
}

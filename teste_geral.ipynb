{
 "cells": [
  {
   "cell_type": "code",
   "execution_count": 1,
   "id": "1c24a8ab-64d4-418a-ba4e-992dfb9af416",
   "metadata": {},
   "outputs": [
    {
     "name": "stderr",
     "output_type": "stream",
     "text": [
      "/home/nayra/.local/lib/python3.10/site-packages/sentence_transformers/cross_encoder/CrossEncoder.py:11: TqdmExperimentalWarning: Using `tqdm.autonotebook.tqdm` in notebook mode. Use `tqdm.tqdm` instead to force console mode (e.g. in jupyter console)\n",
      "  from tqdm.autonotebook import tqdm, trange\n"
     ]
    }
   ],
   "source": [
    "from sentence_transformers import SentenceTransformer\n",
    "from transformers import AutoTokenizer\n",
    "from PyPDF2 import PdfReader\n",
    "from transformers import pipeline\n",
    "\n",
    "import chromadb\n",
    "import torch\n",
    "import ollama"
   ]
  },
  {
   "cell_type": "code",
   "execution_count": 2,
   "id": "eeeafb79-9ec3-4468-a3e1-a47f67646ac4",
   "metadata": {},
   "outputs": [],
   "source": [
    "embeddings = SentenceTransformer(\"sentence-transformers/all-MiniLM-L12-v2\")"
   ]
  },
  {
   "cell_type": "code",
   "execution_count": 3,
   "id": "ac2cb5a0-f1ce-42b2-b06c-a99feb643c94",
   "metadata": {},
   "outputs": [],
   "source": [
    "PATH = \"pdf/Livro de Arquitetura e organização de computadores.pdf\"\n",
    "\n",
    "\n",
    "reader = PdfReader(PATH)\n",
    "\n",
    "text_load = ''.join(page.extract_text() for page in reader.pages)\n",
    "\n",
    "client = chromadb.PersistentClient(path=\"chromadb\")\n",
    "collection = client.get_or_create_collection(name=\"vector-langchain\")\n",
    "history_collection = client.get_or_create_collection(name=\"chat_history\")\n",
    "embeddings = SentenceTransformer(\"sentence-transformers/all-MiniLM-L12-v2\")"
   ]
  },
  {
   "cell_type": "code",
   "execution_count": 4,
   "id": "fc61b6c5-5b23-42be-98cb-903e3b08356d",
   "metadata": {},
   "outputs": [],
   "source": [
    "text_split = []\n",
    "metadata=[]\n",
    "chunk_size = 432\n",
    "chunk_overlap = 8\n",
    "\n",
    "for i in range(0, len(text_load), chunk_size):\n",
    "    start = i\n",
    "    end = i + chunk_size\n",
    "    if start != 0:\n",
    "        start = start - chunk_overlap\n",
    "        end =  end + chunk_overlap\n",
    "    text_split.append(text_load[start:end])\n",
    "    metadata.append({\"name\": \"book-langchain\", \"partition\": f\"{i}\"})\n",
    "embeddings_db = embeddings.encode(text_split)"
   ]
  },
  {
   "cell_type": "code",
   "execution_count": 5,
   "id": "47d40413-38e1-4084-bb0b-3f1e512d70d2",
   "metadata": {},
   "outputs": [],
   "source": [
    "for i, d in enumerate(text_split):\n",
    "\n",
    "      collection.add(\n",
    "              ids=[str(i)],\n",
    "              embeddings=embeddings_db[[i]],\n",
    "              documents=[d],\n",
    "              metadatas=metadata[i]\n",
    "    )"
   ]
  },
  {
   "cell_type": "code",
   "execution_count": 6,
   "id": "eb0c7b37-9404-45bb-a0ed-7419c3593e2b",
   "metadata": {},
   "outputs": [
    {
     "name": "stdin",
     "output_type": "stream",
     "text": [
      "Pergunte algo o que é memória ram?\n"
     ]
    },
    {
     "name": "stdout",
     "output_type": "stream",
     "text": [
      "[[0.5899770259857178, 0.6298215985298157, 0.630146861076355, 0.6509194374084473, 0.6580712199211121, 0.6639449000358582, 0.6694378852844238, 0.6802554130554199, 0.6965671181678772, 0.6982316374778748]]\n",
      "['RAM) é uma forma de memória de acesso aleatório usada para a memória cache; veja o Capítulo 5.\\n15 A memória flash consiste em uma forma versátil de memória usada tanto por microcontroladores como por memória externa; esse assunto é discutido no Capítulo 6.\\nBOKK_STALLINGS.indb   31 01/09/17   09:15Arquitetura e organização de computadores32\\n}}Gerenciamento de energia: administra os vários modos de operação do processador e de periféricos em \\nbai', ' (EEPROM — do inglês, \\nElectrically Erasable PROM)Eletricamente, \\nem nível de byte\\nMemória flashEletricamente, \\nem nível de bloco\\nOutra característica distinta da RAM é que ela é volátil. Uma RAM deve receber uma fonte de alimen-\\ntação constante. Se a energia for interrompida, os dados são perdidos. Assim, a RAM só pode ser usada como \\narmazenamento temporário. As duas formas tradicionais de RAM usadas nos computadores são DRAM e SRAM. As mais ', 'ue a linha tenha sido buscada da memória principal e depois reexecute para um acerto.\\nb. Suponha que aumentar o tamanho da linha para 128 bytes aumente o H para 0,97. Isso reduz o tempo de acesso médio à memória?\\n4.22.  Um computador tem uma cache, uma memória principal e um disco usado para memória virtual. Se uma palavra referenciada estiver na cache, 20 ns serão necessários para acessá-la. Se estiver na memó-ria principal, mas não na cache, ', ' está na faixa dos gigabytes. Quando considerarmos a memória virtual e a cache de disco, citaremos outros estudos que confirmam o mesmo fenômeno, sobretudo que um M1 relativamente pequeno gera um valor alto de razão de acerto, por conta da localidade.\\nIsso nos leva à última pergunta listada anteriormente: o tamanho relativo das duas memórias satisfaz o \\nrequisito de custo? A resposta é clara: sim. Se só precisarmos de uma memória de nível super', 'e dados válida para a memória?\\nc. Quantos estados de espera devemos inserir se a memória exigir a apresentação de dados válida por pelo menos 190 ns?\\n3.14.  Um microprocessador tem uma instrução direta de incremento de memória, que soma 1 ao valor em um local da memória. A instrução tem cinco estágios: busca do opcode (quatro ciclos de clock do bar -\\nramento), busca do endereço do operando (três ciclos), busca do operando (três ciclos), soma de', 'priada no buffer de RAM é atualizada.\\n2. Antes que o bloco seja escrito de volta na memória flash, todo o bloco da memória flash deve ser apa-\\ngado — não é possível apagar apenas uma página da memória flash.\\n3. Todo o bloco a partir do buffer é agora gravado de volta na memória flash.\\nAgora, quando o drive de flash está relativamente vazio e um novo arquivo é criado, as páginas desses \\narquivos são gravadas no drive de forma contínua, de modo q', '8\\nRAM não volátil dentro da hierarquia da memória.\\nSRAM\\nSTT-RAM\\nPCRAM\\nReRAMDesempenho\\ne durabilidade\\naumentados\\nCusto decrescente\\npor bit, capacidade\\nou densidade crescentesDRAM\\nFLASH NAND \\nDISCO RÍGIDO \\nBOKK_STALLINGS.indb   156 01/09/17   09:15Capítulo 5 } Memória interna  \\n157\\nAo longo do tempo, cada uma dessas tecnologias tem visto melhorias em escala: densidade de bit mais alta, \\nvelocidade mais alta, menor consumo de energia e menor custo', ' tratadas as três novas e importantes tecnologias RAM em estado sólido não volátil que ocupam diferentes posições na hierarquia da memória: STT-RAM, \\nPCRAM e ReRAM.\\n}}Acesso direto à cache (DCA — do inglês, Direct Cache Access): para atender às demandas de processa-\\nmento de protocolos para conexões de rede de alta velocidade, a Intel e outros fabricantes desenvolve-ram tecnologias DCA que proporcionam uma taxa de transferência muito maior do q', 'ria CaChe\\nA memória cache é desenvolvida para combinar o tempo de acesso de memórias de alto custo e alta ve-\\nlocidade com as memórias de menor velocidade, maior tamanho e mais baixo custo. O conceito é ilustrado na Figura 4.3a. Existe uma memória principal relativamente grande e lenta junto com a memória cache, menor e \\nmais rápida. A cache contém uma cópia de partes da memória principal. Quando o processador tenta ler uma \\npalavra da memória,', 'vel 1 (razão de acerto)Tempo médio de acesso\\nBOKK_STALLINGS.indb   104 01/09/17   09:15Capítulo 4 } Memória cache  \\n105\\nmemória não se encaixa na hierarquia, mas é um apêndice: os dados podem ser movidos entre a memória prin-\\ncipal e o armazenamento expandido, mas não entre o armazenamento expandido e a memória externa. Outras formas de memória secundária incluem os discos ópticos e magneto-ópticos. Finalmente, outros níveis podem \\nser efetivam']\n",
      "\n",
      "\n",
      "Memória RAM (Random Access Memory) é uma forma de memória de acesso aleatório usada para a memória cache. É uma forma versátil de memória usada tanto por microcontroladores quanto por memória externa. A memória RAM é volátil, o que significa que os dados são perdidos se a energia for interrompida. Por isso, a RAM só pode ser usada como armazenamento temporário.\n",
      "\n",
      "Existem duas formas tradicionais de RAM usadas nos computadores: DRAM (Dynamic Random Access Memory) e SRAM (Static Random Access Memory). A diferença principal entre elas é que DRAM tem uma alone mais longa, o que significa que ela pode armazenar dados por um período maior antes de precisar ser atualizada.\n",
      "\n",
      "A memória RAM é importante para a funcionalidade dos computadores modernos, pois permite que os programas e dados sejam acessados rapidamente e de forma aleatória. Além disso, a memória RAM também é usada como armazenamento de dados temporários, como a memória cache, que ajuda a melhorar o desempenho dos computadores.\n",
      "\n",
      "\n"
     ]
    },
    {
     "name": "stdin",
     "output_type": "stream",
     "text": [
      "Pergunte algo o que é arquitetura de computadores?\n"
     ]
    },
    {
     "name": "stdout",
     "output_type": "stream",
     "text": [
      "[[0.498393177986145, 0.5074726939201355, 0.5160396099090576, 0.5549819469451904, 0.5839642286300659, 0.6416518092155457, 0.6577909588813782, 0.6734175682067871, 0.679311990737915, 0.6805151700973511]]\n",
      "['se em arquitetura e organização de computadores, com particular ênfase no paralelismo explícito na arquitetura de computadores.\\nAo longo da década de 1980 e no início da década de 1990, as pesquisas passaram a brotar nesse campo, \\ne houve grandes inovações. A maioria delas chegaram ao mercado pelas start-ups de universidades. Contudo, ironicamente, foi a mesma tecnologia que reverteu essa tendência. A diversidade foi gradativamente substituí da', 'DI; FEUSTEL, 1976.)\\nArquitetura de computador refere-se aos atributos de um sistema visíveis a um programador ou, em outras \\npalavras, aqueles atributos que possuem um impacto direto sobre a execução lógica de um programa. Um termo que é muitas vezes usado de maneira intercambiável com as arquiteturas de computadores é arquitetura de con-junto de instrução (ISA — do inglês, Instruction Set Architecture) . O ISA define os formatos de instruções,', 'tura\\nAo se descreverem computadores, é comum se fazer uma distinção entre arquitetura de computadores e \\norganização de computadores . Embora seja difícil estabelecer definições precisas  para tais termos, existe um \\nconsenso a respeito das áreas que abrangem cada um. (Por exemplo, veja VRANESIC; THURBER, 1980, \\nSIEWIOREK; BELL; NEWELL, 1982 e BELL; MUDGE; McNAMARA, 1978a; uma visão alternativa interes-sante é apresentada em REDDI; FEUSTEL, 197', 's famílias de computadores. Vários \\noutros sistemas, tanto contemporâneos como históricos, fornecem exemplos de importantes características de projeto de arquitetura de computador\\neStrutura dO teXtO\\nEste livro é organizado em seis partes:\\n}}Introdução.\\n}}O sistema de computação.\\n}}Lógica e aritmética.\\n}}A unidade central do processamento.\\n}}Organização paralela (incluindo multicore).\\n}}A unidade de controle.\\nO livro abrange uma série de caracte', 'como uma organização de computador precisa ser projetada para implementar deter -\\nminada especificação de arquitetura, um tratamento completo da organização exige um exame detalhado também da arquitetura.\\n1.2 estrutura e funçãO\\nUm computador é um sistema complexo; computadores contemporâneos contêm milhões de componentes \\neletrônicos elementares. Como, então, alguém poderia descrevê-los com clareza? A chave é reconhecer a natu-reza hierárquica ', 'com algumas melhorias, sobreviveu até os dias de hoje como a arquitetura da linha de produtos de mainframe da IBM.\\nEm uma classe de computadores chamada microcomputadores, o relacionamento entre arquitetura e or -\\nganização é muito próximo. As mudanças na tecnologia não apenas influenciam a organização, mas também resultam na introdução de arquiteturas mais poderosas e mais complexas. Geralmente, há menor requisito para compatibilidade de geraç', 'a distinção entre a estrutura e a função do computador?\\n1.3. Quais são as quatro funções principais de um computador?\\n1.4. Liste e defina resumidamente os principais componentes estruturais de um computador.\\n1.5. Liste e defina resumidamente os principais componentes estruturais de um processador.\\n1.6. O que é um computador de programa armazenado?\\n1.7. Explique a lei de Moore.\\n1.8. Liste e explique as principais características de uma família d', 'special.\\nHistoricamente, e ainda hoje, a distinção entre arquitetura e organização tem sido importante. Muitos fabri-\\ncantes de computador oferecem uma família de modelos de computador, todos com a mesma arquitetura, mas com diferenças na organização. Consequentemente, os diferentes modelos na família têm diferentes caracterís-\\nticas de preço e desempenho. Além do mais, uma arquitetura em particular pode se espalhar por muitos anos e \\nabranger ', ' do ponto de vista da arquitetura e da organização de computadores, \\né que, por um lado, os blocos básicos para os milagres do computador de hoje são praticamente os mesmos daqueles do computador IAS de cinquenta anos atrás, enquanto, por outro lado, as técnicas para espremer a última gota de máximo desempenho dos materiais em mãos têm se tornado cada vez mais sofisticadas.\\nEssa observação serve como um princípio de orientação para a apresentaç', 'ando apareceu, a arquitetura RISC foi uma mudança considerável da tendência histórica na arquitetura \\nde processadores. Uma análise da arquitetura RISC traz à tona muitas questões importantes da organização e arquitetura de computadores.\\nEmbora os sistemas RISC tenham sido definidos e projetados de muitas maneiras diferentes e por grupos \\ndiferentes, aqui estão os principais elementos compartilhados pela maioria dos projetos:\\n}}Um grande número']\n",
      "\n",
      "\n",
      "\n",
      "Arquitetura de computador se refere ao conjunto de atributos ou características de um sistema de computador que afetam a forma como os programas são executados. Isso pode incluir aspectos como o tipo de instruções disponíveis, a estrutura do memória, a forma como as tarefas são divididas e geralmente executadas, entre outros. A arquitetura de computador é importante porque ela define como os programas serão executados e quanta lentidão ou eficiência terá o sistema de computador.\n",
      "\n",
      "A distinção entre arquitetura e organização de computadores é importante porque a arquitetura se refere ao conjunto de atributos do sistema, enquanto a organização se refere à forma como esses atributos são organizados e usados para executar tarefas. Embora haja uma distinção clara entre as two terms, elas são frequentemente usadas de maneira intercambiável na literatura.\n",
      "\n",
      "Existem várias famílias de computadores, cada uma com sua própria arquitetura e organização. Algumas das principais famílias de computadores incluem:\n",
      "\n",
      "* Mainframe: Essa família de computadores é caracterizada por suas grandes capacidades de processamento e armazenamento de dados. A arquitetura mainframe é projetada para lidar com grandes quantidades de dados e é usada em aplicações críticas, como bancos e hospitais.\n",
      "* Microcomputador: Essa família de computadores é caracterizada por suas dimensões menores e preços mais acessíveis. A arquitetura microcomputadora é projetada para ser compacta e econômica, tornando-se popular entre os usuários domésticos e em pequenas empresas.\n",
      "* Workstation: Essa família de computadores é caracterizada por seus altos requisitos de processamento e armazenamento de dados. A arquitetura workstation é projetada para lidar com aplicações exigentes, como análise científica e engenharia.\n",
      "* Servidor: Essa família de computadores é caracterizada por sua capacidade de lidar com grandes quantidades de usuários e dados. A arquitetura servidor é projetada para ser segura, escalável e confiável, tornando-se popular em aplicações de redes de computadores.\n",
      "\n",
      "A lei de Moore afirma que o número de transistores em um processador aumentará exponencialmente a cada década, levando a uma melhoria exponencial na capacidade de procesamento dos computadores. Isso é importante para entender como as tecnologias de computador evoluem e como elas afetam a forma como os programas são executados.\n",
      "\n",
      "Em resumo, a arquitetura de computadores é o conjunto de atributos ou características de um sistema de computador que afetam a forma como os programas são executados. A distinção entre arquitetura e organização é importante para entender como as tecnologias de computador evoluem e como elas afetam a forma como os programas são executados.\n",
      "\n",
      "\n"
     ]
    },
    {
     "name": "stdin",
     "output_type": "stream",
     "text": [
      "Pergunte algo o que é docker?\n"
     ]
    },
    {
     "name": "stdout",
     "output_type": "stream",
     "text": [
      "[[1.0433679819107056, 1.1339820623397827, 1.1852651834487915, 1.2172613143920898, 1.2206687927246094, 1.2235419750213623, 1.2265346050262451, 1.2287507057189941, 1.2338552474975586, 1.2345644235610962]]\n",
      "[]\n",
      "\n",
      "\n",
      "\n",
      "Entendi, por favor perdoe-me, mas como um assistente de chatbot, tenho acesso limitado às informações e não posso fornecer respostas precisas sobre questões específicas ou detalhes de eventos passados ou futuros. Meu papel é ajudar com tarefas rotineiras e respondê-res para perguntas gerais, mas não tenho acesso a informações confidenciais ou detalhes específicos sobre tema em questão. Por favor, peça uma resposta mais aprofundada ou informações diferentes.\n",
      "\n",
      "\n"
     ]
    },
    {
     "name": "stdin",
     "output_type": "stream",
     "text": [
      "Pergunte algo o que é arquitetura?\n"
     ]
    },
    {
     "name": "stdout",
     "output_type": "stream",
     "text": [
      "[[0.7149341702461243, 0.8029831051826477, 0.8667809963226318, 0.8905649185180664, 0.9073631763458252, 0.9193487167358398, 0.9896033406257629, 0.9902974963188171, 1.006562352180481, 1.0125128030776978]]\n",
      "['DI; FEUSTEL, 1976.)\\nArquitetura de computador refere-se aos atributos de um sistema visíveis a um programador ou, em outras \\npalavras, aqueles atributos que possuem um impacto direto sobre a execução lógica de um programa. Um termo que é muitas vezes usado de maneira intercambiável com as arquiteturas de computadores é arquitetura de con-junto de instrução (ISA — do inglês, Instruction Set Architecture) . O ISA define os formatos de instruções,']\n",
      "\n",
      "\n",
      "\n",
      "Arquitetura de computador referência às características visíveis de um sistema de computador ou hardware, que afetam a execução lógica de um programa. Isso inclui atributos como o tipo de processador, memória RAM, ROM, Unidade de Conhecimento (Knowledge Unit), entre outros.\n",
      "\n",
      "A arquitetura de computador é importante pois define как as instruções serão processadas pelo computador. Por exemplo, se um computador tiver uma arquitetura de processador com suporte a instruções específicas, pode executar programas que são compostos por essas instruções. Além disso, a arquitetura de computador também influencia a velocidade deexecução de um programa, pois alguns processadores são mais rápidos do que outros.\n",
      "\n",
      "O termo \"arquitetura de computador\" é frequentemente usado de maneira intercambiável com \"arquitetura de conexão de instruções\" (ISA), que define os formatos de instruções que um processador pode executar. No entanto, a arquitetura de computador é mais amplo e abrange todos os aspectos da arquitectura do sistema de computador, enquanto ISA se concentra em aspectos específicos da arquitectura de processador.\n",
      "\n",
      "\n"
     ]
    },
    {
     "name": "stdin",
     "output_type": "stream",
     "text": [
      "Pergunte algo python\n"
     ]
    },
    {
     "name": "stdout",
     "output_type": "stream",
     "text": [
      "[[1.1592448949813843, 1.1616356372833252, 1.2818533182144165, 1.3011623620986938, 1.3044285774230957, 1.3288086652755737, 1.334482192993164, 1.3441367149353027, 1.359619140625, 1.3613083362579346]]\n",
      "[]\n",
      "\n",
      "\n",
      "\n",
      "Entendi! Como assistente de chatbot, tenho acesso limitado a informações e não posso fornecer respostas detalhadas ou precisas para perguntas que estão fora do escopo de meus conhecimentos. Por favor, pergunte alguma outra coisa que esteja dentro do meu áudio de conhecimento.\n",
      "\n",
      "\n"
     ]
    },
    {
     "ename": "KeyboardInterrupt",
     "evalue": "Interrupted by user",
     "output_type": "error",
     "traceback": [
      "\u001b[0;31m---------------------------------------------------------------------------\u001b[0m",
      "\u001b[0;31mKeyboardInterrupt\u001b[0m                         Traceback (most recent call last)",
      "Cell \u001b[0;32mIn[6], line 5\u001b[0m\n\u001b[1;32m      1\u001b[0m \u001b[38;5;28;01mwhile\u001b[39;00m \u001b[38;5;28;01mTrue\u001b[39;00m:\n\u001b[1;32m      3\u001b[0m     query \u001b[38;5;241m=\u001b[39m []\n\u001b[0;32m----> 5\u001b[0m     prompt \u001b[38;5;241m=\u001b[39m \u001b[38;5;28;43minput\u001b[39;49m\u001b[43m(\u001b[49m\u001b[38;5;124;43m\"\u001b[39;49m\u001b[38;5;124;43mPergunte algo\u001b[39;49m\u001b[38;5;124;43m\"\u001b[39;49m\u001b[43m)\u001b[49m\n\u001b[1;32m      6\u001b[0m     response \u001b[38;5;241m=\u001b[39m embeddings\u001b[38;5;241m.\u001b[39mencode([prompt])\n\u001b[1;32m      7\u001b[0m     results \u001b[38;5;241m=\u001b[39m collection\u001b[38;5;241m.\u001b[39mquery(\n\u001b[1;32m      8\u001b[0m             query_embeddings\u001b[38;5;241m=\u001b[39mresponse,\n\u001b[1;32m      9\u001b[0m             n_results\u001b[38;5;241m=\u001b[39m\u001b[38;5;241m10\u001b[39m,\n\u001b[1;32m     10\u001b[0m             where\u001b[38;5;241m=\u001b[39m{\u001b[38;5;124m\"\u001b[39m\u001b[38;5;124mname\u001b[39m\u001b[38;5;124m\"\u001b[39m: \u001b[38;5;124m\"\u001b[39m\u001b[38;5;124mbook-langchain\u001b[39m\u001b[38;5;124m\"\u001b[39m}\n\u001b[1;32m     11\u001b[0m         )\n",
      "File \u001b[0;32m~/.local/lib/python3.10/site-packages/ipykernel/kernelbase.py:1282\u001b[0m, in \u001b[0;36mKernel.raw_input\u001b[0;34m(self, prompt)\u001b[0m\n\u001b[1;32m   1280\u001b[0m     msg \u001b[38;5;241m=\u001b[39m \u001b[38;5;124m\"\u001b[39m\u001b[38;5;124mraw_input was called, but this frontend does not support input requests.\u001b[39m\u001b[38;5;124m\"\u001b[39m\n\u001b[1;32m   1281\u001b[0m     \u001b[38;5;28;01mraise\u001b[39;00m StdinNotImplementedError(msg)\n\u001b[0;32m-> 1282\u001b[0m \u001b[38;5;28;01mreturn\u001b[39;00m \u001b[38;5;28;43mself\u001b[39;49m\u001b[38;5;241;43m.\u001b[39;49m\u001b[43m_input_request\u001b[49m\u001b[43m(\u001b[49m\n\u001b[1;32m   1283\u001b[0m \u001b[43m    \u001b[49m\u001b[38;5;28;43mstr\u001b[39;49m\u001b[43m(\u001b[49m\u001b[43mprompt\u001b[49m\u001b[43m)\u001b[49m\u001b[43m,\u001b[49m\n\u001b[1;32m   1284\u001b[0m \u001b[43m    \u001b[49m\u001b[38;5;28;43mself\u001b[39;49m\u001b[38;5;241;43m.\u001b[39;49m\u001b[43m_parent_ident\u001b[49m\u001b[43m[\u001b[49m\u001b[38;5;124;43m\"\u001b[39;49m\u001b[38;5;124;43mshell\u001b[39;49m\u001b[38;5;124;43m\"\u001b[39;49m\u001b[43m]\u001b[49m\u001b[43m,\u001b[49m\n\u001b[1;32m   1285\u001b[0m \u001b[43m    \u001b[49m\u001b[38;5;28;43mself\u001b[39;49m\u001b[38;5;241;43m.\u001b[39;49m\u001b[43mget_parent\u001b[49m\u001b[43m(\u001b[49m\u001b[38;5;124;43m\"\u001b[39;49m\u001b[38;5;124;43mshell\u001b[39;49m\u001b[38;5;124;43m\"\u001b[39;49m\u001b[43m)\u001b[49m\u001b[43m,\u001b[49m\n\u001b[1;32m   1286\u001b[0m \u001b[43m    \u001b[49m\u001b[43mpassword\u001b[49m\u001b[38;5;241;43m=\u001b[39;49m\u001b[38;5;28;43;01mFalse\u001b[39;49;00m\u001b[43m,\u001b[49m\n\u001b[1;32m   1287\u001b[0m \u001b[43m\u001b[49m\u001b[43m)\u001b[49m\n",
      "File \u001b[0;32m~/.local/lib/python3.10/site-packages/ipykernel/kernelbase.py:1325\u001b[0m, in \u001b[0;36mKernel._input_request\u001b[0;34m(self, prompt, ident, parent, password)\u001b[0m\n\u001b[1;32m   1322\u001b[0m \u001b[38;5;28;01mexcept\u001b[39;00m \u001b[38;5;167;01mKeyboardInterrupt\u001b[39;00m:\n\u001b[1;32m   1323\u001b[0m     \u001b[38;5;66;03m# re-raise KeyboardInterrupt, to truncate traceback\u001b[39;00m\n\u001b[1;32m   1324\u001b[0m     msg \u001b[38;5;241m=\u001b[39m \u001b[38;5;124m\"\u001b[39m\u001b[38;5;124mInterrupted by user\u001b[39m\u001b[38;5;124m\"\u001b[39m\n\u001b[0;32m-> 1325\u001b[0m     \u001b[38;5;28;01mraise\u001b[39;00m \u001b[38;5;167;01mKeyboardInterrupt\u001b[39;00m(msg) \u001b[38;5;28;01mfrom\u001b[39;00m \u001b[38;5;28;01mNone\u001b[39;00m\n\u001b[1;32m   1326\u001b[0m \u001b[38;5;28;01mexcept\u001b[39;00m \u001b[38;5;167;01mException\u001b[39;00m:\n\u001b[1;32m   1327\u001b[0m     \u001b[38;5;28mself\u001b[39m\u001b[38;5;241m.\u001b[39mlog\u001b[38;5;241m.\u001b[39mwarning(\u001b[38;5;124m\"\u001b[39m\u001b[38;5;124mInvalid Message:\u001b[39m\u001b[38;5;124m\"\u001b[39m, exc_info\u001b[38;5;241m=\u001b[39m\u001b[38;5;28;01mTrue\u001b[39;00m)\n",
      "\u001b[0;31mKeyboardInterrupt\u001b[0m: Interrupted by user"
     ]
    }
   ],
   "source": [
    "while True:\n",
    "\n",
    "    query = []\n",
    "\n",
    "    prompt = input(\"Pergunte algo\")\n",
    "    response = embeddings.encode([prompt])\n",
    "    results = collection.query(\n",
    "            query_embeddings=response,\n",
    "            n_results=10,\n",
    "            where={\"name\": \"book-langchain\"}\n",
    "        )\n",
    "\n",
    "    data = results['documents'][0]\n",
    "    distance = results['distances'] \n",
    "    \n",
    "    for k in range(10):\n",
    "        if distance[0][k] < 0.74:\n",
    "            query.append(data[k])\n",
    "\n",
    "    prompt_template = f\"O seu único conhecimento é sobre {query}. Agora, responda {prompt}\"\n",
    "\n",
    "    if len(query) == 0:\n",
    "            prompt_template = \"Você é um assistente de chatbot e tem acesso limitado a informações. Nesse caso, diga que não tem conhecimento acerca da pergunta.\"\n",
    "    \n",
    "    output = ollama.generate(\n",
    "            model=\"llama2\",\n",
    "            prompt=prompt_template\n",
    "            )\n",
    "    print(\"\\n\")\n",
    "    output = output['response']\n",
    "    print(output)\n",
    "    print(\"\\n\")\n",
    "    "
   ]
  },
  {
   "cell_type": "code",
   "execution_count": null,
   "id": "534c8f95-efa0-4f15-8c5b-9128d3c00253",
   "metadata": {},
   "outputs": [],
   "source": []
  },
  {
   "cell_type": "code",
   "execution_count": null,
   "id": "b59116b4-6c66-4749-888b-237d7b7b3b18",
   "metadata": {},
   "outputs": [],
   "source": []
  },
  {
   "cell_type": "code",
   "execution_count": null,
   "id": "a7dd0ab6-3bed-4cf3-a2b6-a521417245c2",
   "metadata": {},
   "outputs": [],
   "source": []
  }
 ],
 "metadata": {
  "kernelspec": {
   "display_name": "Python 3 (ipykernel)",
   "language": "python",
   "name": "python3"
  },
  "language_info": {
   "codemirror_mode": {
    "name": "ipython",
    "version": 3
   },
   "file_extension": ".py",
   "mimetype": "text/x-python",
   "name": "python",
   "nbconvert_exporter": "python",
   "pygments_lexer": "ipython3",
   "version": "3.10.12"
  }
 },
 "nbformat": 4,
 "nbformat_minor": 5
}

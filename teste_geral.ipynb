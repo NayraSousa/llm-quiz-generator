{
 "cells": [
  {
   "cell_type": "code",
   "execution_count": 1,
   "id": "1c24a8ab-64d4-418a-ba4e-992dfb9af416",
   "metadata": {},
   "outputs": [
    {
     "name": "stderr",
     "output_type": "stream",
     "text": [
      "/home/nayra/.local/lib/python3.10/site-packages/sentence_transformers/cross_encoder/CrossEncoder.py:11: TqdmExperimentalWarning: Using `tqdm.autonotebook.tqdm` in notebook mode. Use `tqdm.tqdm` instead to force console mode (e.g. in jupyter console)\n",
      "  from tqdm.autonotebook import tqdm, trange\n"
     ]
    }
   ],
   "source": [
    "from sentence_transformers import SentenceTransformer\n",
    "from transformers import AutoTokenizer\n",
    "from PyPDF2 import PdfReader\n",
    "from transformers import pipeline\n",
    "\n",
    "import chromadb\n",
    "import torch\n",
    "import ollama"
   ]
  },
  {
   "cell_type": "code",
   "execution_count": 2,
   "id": "eeeafb79-9ec3-4468-a3e1-a47f67646ac4",
   "metadata": {},
   "outputs": [],
   "source": [
    "embeddings = SentenceTransformer(\"sentence-transformers/all-MiniLM-L12-v2\")"
   ]
  },
  {
   "cell_type": "code",
   "execution_count": 3,
   "id": "ac2cb5a0-f1ce-42b2-b06c-a99feb643c94",
   "metadata": {},
   "outputs": [],
   "source": [
    "PATH = \"pdf/JavaBasico.pdf\"\n",
    "\n",
    "\n",
    "reader = PdfReader(PATH)\n",
    "\n",
    "text_load = ''.join(page.extract_text() for page in reader.pages)\n",
    "\n",
    "client = chromadb.PersistentClient(path=\"chromadb\")\n",
    "collection = client.get_or_create_collection(name=\"vector-langchain\")\n",
    "history_collection = client.get_or_create_collection(name=\"chat_history\")"
   ]
  },
  {
   "cell_type": "code",
   "execution_count": 4,
   "id": "fc61b6c5-5b23-42be-98cb-903e3b08356d",
   "metadata": {},
   "outputs": [],
   "source": [
    "text_split = []\n",
    "metadata=[]\n",
    "chunk_size = 1024\n",
    "chunk_overlap = 8\n",
    "\n",
    "for i in range(0, len(text_load), chunk_size):\n",
    "    start = i\n",
    "    end = i + chunk_size\n",
    "    if start != 0:\n",
    "        start = start - chunk_overlap\n",
    "        end =  end + chunk_overlap\n",
    "    text_split.append(text_load[start:end])\n",
    "    metadata.append({\"name\": \"book-langchain\", \"partition\": f\"{i}\"})\n",
    "embeddings_db = embeddings.encode(text_split)"
   ]
  },
  {
   "cell_type": "code",
   "execution_count": 5,
   "id": "47d40413-38e1-4084-bb0b-3f1e512d70d2",
   "metadata": {},
   "outputs": [],
   "source": [
    "for i, d in enumerate(text_split):\n",
    "\n",
    "      collection.add(\n",
    "              ids=[str(i)],\n",
    "              embeddings=embeddings_db[[i]],\n",
    "              documents=[d],\n",
    "              metadatas=metadata[i]\n",
    "    )"
   ]
  },
  {
   "cell_type": "code",
   "execution_count": null,
   "id": "eb0c7b37-9404-45bb-a0ed-7419c3593e2b",
   "metadata": {},
   "outputs": [
    {
     "name": "stdin",
     "output_type": "stream",
     "text": [
      "Pergunte algo orientação a objeto\n"
     ]
    },
    {
     "name": "stdout",
     "output_type": "stream",
     "text": [
      "['ação a Objeto  | Orientação a Objeto I\\nA PROGRAMAÇÃO ORIENTADA A OBJETO\\nA Programação Orientada a Objeto (POO)  tem como pilar teórico o conceito \\nde objeto , ou seja, um sistema orientado a objeto é um conjunto de objetos \\nque representam os seres e coisas do mundo real, interagindo computacional-mente com as mesmas características e comportamentos reais.À estrutura computacional que deﬁ  ne o modelo de um objeto do mundo real \\ndamos o nome de classe , e a partir dela cópias são construídas para serem \\nutilizadas para cada objeto real que tenho no meu sistema.As características  dos objetos do mundo real são chamadas de atributos  \\nno mundo computacional, enquanto a seus comportamentos  chamamos \\nmétodos.\\nClasses  são estru-\\nturas que de ﬁ nem as carac-\\nterísticas e comportamentos dos \\nseres ou coisas do mun do rea l; quando\\nimplementa dos em Java nas c lasses, essas\\ncaracterísticas passam a se chamar\\natributos, e os com portamentos\\nse trans formam nos nossos\\nmétodos.INTRODUÇÃO \\nObjetos são as \\ninstâncias das minhas classes', ', Auditoria e Tecnologia da InformaçãoJava Básico e Orientação a Objeto  | Orientação a Objeto I\\nE assim completamos nosso conceito de encapsulamento, em que \\ntemos classes dos objetos de negócio com atributos privados (acessíveis somente pela própria classe) e métodos públicos (acessíveis por quaisquer classes), get para recuperar os valores dos atributos e métodos públicos \\nset para deﬁ  ni-los. No nosso caso, temos métodos set para os atributos \\nnome, endereço, idade e para cada uma das notas, como você pode ver neste código:\\n \\n \\n \\n C E C I E R J  –  E X T E N S Ã O  E M  G O V E R N A N Ç A     115\\nAULA 5  \\nPor ﬁ m, vamos implementar uma classe (classe AppRegistraAluno ), \\nque representa uma aplicação que utiliza nosso objeto aluno do mundo real, representado computacionalmente pela classe  RegistraAluno :\\n \\nComo foi pedido na aplicação, imprimimos o nome da Ana pelo \\nmétodo getNome()  aplicado ao objeto ana, além do contador por meio \\ndo método getQuantidadeAlunos( ) .116 Governança: Gestão, Auditoria e Tecnologia da In']\n",
      "Objetos são instâncias das nossas classes, que representam objetos ou seres do mundo real. A orientação a objeto é uma abordagem de programação que se baseia na ideia de que os objetos têm características e comportamentos que podem ser modelados e manipulados através da criação de classes.\n",
      "\n",
      "Em nossa aplicação, temosclasses como AppRegistraAluno, que representam uma aplicação que utiliza um objeto aluno do mundo real. A classe AppRegistraAluno tem métodos públicos para recuperar valores dos atributos do objeto aluno e para manipular os comportamentos do objeto.\n",
      "\n",
      "No código above, vemos como a classe AppRegistraAluno herda as características da classe RegistraAluno, que representa o objeto aluno do mundo real. A classe AppRegistraAluno tem um método getNome() que imprime o nome do objeto Ana e um método getQuantidadeAlunos() que conta o número de alunos registrados na aplicação.\n",
      "\n",
      "A encapsulamento é uma das principais características da orientação a objeto, que permite proteger os atributos privados de uma classe dos objetos que dela herdam e manter controlado acesso aos mesmos. Nossa aplicação utiliza o encapsulamento para garantir que os atributos do objeto aluno sejam acessíveis somente pela própria classe, evitando assim a manipulação indevida dos valores dos atributos.\n",
      "\n",
      "\n",
      "['Human: orientação a objeto\\nAi: Objetos são instâncias das nossas classes, que representam objetos ou seres do mundo real. A orientação a objeto é uma abordagem de programação que se baseia na ideia de que os objetos têm características e comportamentos que podem ser modelados e manipulados através da criação de classes.\\n\\nEm nossa aplicação, temosclasses como AppRegistraAluno, que representam uma aplicação que utiliza um objeto aluno do mundo real. A classe AppRegistraAluno tem métodos públicos para recuperar valores dos atributos do objeto aluno e para manipular os comportamentos do objeto.\\n\\nNo código above, vemos como a classe AppRegistraAluno herda as características da classe RegistraAluno, que representa o objeto aluno do mundo real. A classe AppRegistraAluno tem um método getNome() que imprime o nome do objeto Ana e um método getQuantidadeAlunos() que conta o número de alunos registrados na aplicação.\\n\\nA encapsulamento é uma das principais características da orientação a objeto, que permite proteger os atributos privados de uma classe dos objetos que dela herdam e manter controlado acesso aos mesmos. Nossa aplicação utiliza o encapsulamento para garantir que os atributos do objeto aluno sejam acessíveis somente pela própria classe, evitando assim a manipulação indevida dos valores dos atributos.']\n"
     ]
    },
    {
     "name": "stdin",
     "output_type": "stream",
     "text": [
      "Pergunte algo polimorfismo\n"
     ]
    },
    {
     "name": "stdout",
     "output_type": "stream",
     "text": [
      "['eiro (PUC-Rio). Trabalha como engenheiro em projetos de Pesquisa e Desenvolvimento (P&D) no Centro Tecnológico do Exército e é instrutor de Java em empresas privadas e universidades do Rio de Janeiro desde 2005.\\nCássia Blondet Baruque\\nMestre e doutora em Informática pela PUC-Rio. Foi docente e \\natuou como cocoordenadora da área de Governança: Gestão, Auditoria e TI da Fundação Cecierj e como pesquisadora asso-ciada do Laboratório de Tecnologia em Banco de Dados da PUC-Rio. Trabalhou como pesquisadora e professora na PUC-Rio, IMPA, FGV-online e UEZO em temas como e-learning, bibliotecas digitais, data warehousing/OLAP e mineração de dados, além de ter exercido cargos importantes, o que lhe conferiu grande expe-riência em desenvolvimento de sistemas, nas empresas Fininvest, Cyanamid, Banco Nacional, Capemi, Shell e RFFSA.\\nIntrodução ao Java\\nApós o estudo do conteúdo desta aula, \\nesperamos que você seja capaz de:\\n descrever o histórico da tecnologia Java;\\n descrever as características do Java; identiﬁ  car os componentes da pla', 'ava.  \\nSaiba que a Fundação Cecierj trabalha para apoiar você nessa \\nmeta!\\nRepresentada pela professora Masako Masuda e pela professora \\nMirian Crapez, a Fundação ampliou a sua missão e incluiu no escopo do seu público-alvo os proﬁ  ssionais de mercado. No início de 2008, foi \\nestabelecida uma nova área do conhecimento na Diretoria de Extensão voltada para oferta de cursos não só aos professores da Educação Básica, mas também aos demais proﬁ  ssionais, intitulada Governança: Gestão, \\nAuditoria e Tecnologia da Informação (TI) . \\nintermediário. Tal programa, denominado bytecode , pode \\nser caracterizado como uma linguagem de máquina destina-da a um processador virtual que não existe ﬁ  sicamente.\\n\\x81 MULTITHREADING:  Java fornece suporte a múltiplos threads \\nde execução, que podem manipular diferentes tarefas.\\n\\x81 COLETOR DE LIXO:  Sua função é a de varrer a memória de \\ntempos em tempos, liberando automaticamente os blocos que não estão sendo utilizados, evitando, assim, erros na alocação de memória.    20 Governança: Gestão, Audi']\n",
      "Entendi, vou responder em português baseado nas informações fornecidas:\n",
      "\n",
      "Sou um assistente de chatbot e tenho acesso limitado às informações. Não tenho conhecimento sobre a pergunta que você me fez, pois não sou capaz de acessar informações adicionais além das fornecidas. A orientação a objeto é uma abordagem de programação que se baseia na ideia de que os objetos têm características e comportamentos que podem ser modelados e manipulados através da criação de classes.\n",
      "\n",
      "Em nossa aplicação, temos classes como AppRegistraAluno, que representam uma aplicação que utiliza um objeto aluno do mundo real. A classe AppRegistraAluno herda as características da classe RegistraAluno, que representation o objeto aluno do mundo real. A classe AppRegistraAluno tem métodos públicos para recuperar valores dos atributos do objeto aluno e para manipular os comportamentos do objeto.\n",
      "\n",
      "A encapsulamento é uma das principais características da orientação a objeto, que permite proteger os atributos privados de uma classe dos objetos que dela herdam e manter controlado acesso aos mesmos. Nossa aplicação utiliza o encapsulamento para garantir que os atributos do objeto aluno sejam acessíveis somente pela própria classe, evitando assim a manipulação indevida dos valores dos atributos.\n",
      "\n",
      "\n",
      "['Human: orientação a objeto\\nAi: Objetos são instâncias das nossas classes, que representam objetos ou seres do mundo real. A orientação a objeto é uma abordagem de programação que se baseia na ideia de que os objetos têm características e comportamentos que podem ser modelados e manipulados através da criação de classes.\\n\\nEm nossa aplicação, temosclasses como AppRegistraAluno, que representam uma aplicação que utiliza um objeto aluno do mundo real. A classe AppRegistraAluno tem métodos públicos para recuperar valores dos atributos do objeto aluno e para manipular os comportamentos do objeto.\\n\\nNo código above, vemos como a classe AppRegistraAluno herda as características da classe RegistraAluno, que representa o objeto aluno do mundo real. A classe AppRegistraAluno tem um método getNome() que imprime o nome do objeto Ana e um método getQuantidadeAlunos() que conta o número de alunos registrados na aplicação.\\n\\nA encapsulamento é uma das principais características da orientação a objeto, que permite proteger os atributos privados de uma classe dos objetos que dela herdam e manter controlado acesso aos mesmos. Nossa aplicação utiliza o encapsulamento para garantir que os atributos do objeto aluno sejam acessíveis somente pela própria classe, evitando assim a manipulação indevida dos valores dos atributos.', 'Human: polimorfismo\\nAi: Entendi, vou responder em português baseado nas informações fornecidas:\\n\\nSou um assistente de chatbot e tenho acesso limitado às informações. Não tenho conhecimento sobre a pergunta que você me fez, pois não sou capaz de acessar informações adicionais além das fornecidas. A orientação a objeto é uma abordagem de programação que se baseia na ideia de que os objetos têm características e comportamentos que podem ser modelados e manipulados através da criação de classes.\\n\\nEm nossa aplicação, temos classes como AppRegistraAluno, que representam uma aplicação que utiliza um objeto aluno do mundo real. A classe AppRegistraAluno herda as características da classe RegistraAluno, que representation o objeto aluno do mundo real. A classe AppRegistraAluno tem métodos públicos para recuperar valores dos atributos do objeto aluno e para manipular os comportamentos do objeto.\\n\\nA encapsulamento é uma das principais características da orientação a objeto, que permite proteger os atributos privados de uma classe dos objetos que dela herdam e manter controlado acesso aos mesmos. Nossa aplicação utiliza o encapsulamento para garantir que os atributos do objeto aluno sejam acessíveis somente pela própria classe, evitando assim a manipulação indevida dos valores dos atributos.']\n"
     ]
    },
    {
     "name": "stdin",
     "output_type": "stream",
     "text": [
      "Pergunte algo meu nome é nayra\n"
     ]
    },
    {
     "name": "stdout",
     "output_type": "stream",
     "text": [
      "['M  G O V E R N A N Ç A     123\\nAULA 6  Vamos agora modiﬁ  car AppRegistraAluno  para imprimir também \\nas notas. Isso será feito simplesmente passando as notas como argumento do método imprimir :\\nE a saída será, conforme previsto, com a chamada do método \\nimprimir  mostrando as notas na tela, em vez do endereço e idade do \\naluno:\\n124 Governança: Gestão, Auditoria e Tecnologia da InformaçãoJava Básico e Orientação a Objeto  | Orientação a Objeto II\\nAbra sua  IDE NetBeans  e implemente a classe RegistraAluno  com os dois \\nmétodos sobrecarregados imprimir , como foi mostrado.\\nApós isso, crie duas classes AppRegistraAluno  e AppRegistraAluno2 . Na primeira \\nclasse, instancie um objeto que representa um aluno com seus respectivos dados e \\nimprima essas informações utilizando o método imprimir  sem parâmetros, que imprime \\napenas as informações pessoais do aluno. Na segunda classe, instancie um outro aluno \\ncom seus dados, mas dessa vez utilize o método imprimir que recebe como parâmetros \\nas notas do aluno, imprimindo-as na saída ', ' = 5;\\nnota2 = 7;nota3 = 8;\\nAgora imagine se você tivesse de utilizar cem variáveis! Isso seria no mínimo \\ntrabalhoso, não é mesmo?INTRODUÇÃO \\nC E C I E R J  –  E X T E N S Ã O  E M  G O V E R N A N Ç A     89\\nAULA 4  \\nArray é y\\numa estrutura inde-\\nxada, ou se ja, é uma variável\\ncujo tipo cr ia uma estrutura capaz \\nde armazenar mú ltiplos itens de um \\nmesmo tipo de dado em um bloco contí -\\nnuo de memória, dividindo-o em certa\\nquanti dade de posições; ca da \\nposição é de ﬁ nida por um \\níndice.Nesses casos, podemos utilizar um recurso que resolve esse problema, criando \\numa estrutura matricial para indexar (criar índices) as variáveis, como se fossem células sequenciais. Isso facilita sua criação, manipulação e controle.Em Java essa estrutura matricial é um tipo de variável especial denominada array.\\nFigura 4.1:  Exemplo de um array  de inteiros. \\nDECLARANDO UM ARRAY\\nComo já dissemos, o array  é uma variável  e, como toda variável, \\nprecisa ser declarada . Mas ele tem uma declaração diferente dos tipos \\nprimitivos: é necessário']\n"
     ]
    }
   ],
   "source": [
    "chat_history = []\n",
    "\n",
    "while True:\n",
    "\n",
    "    prompt = input(\"Pergunte algo\")\n",
    "    response = embeddings.encode([prompt])\n",
    "    results = collection.query(\n",
    "            query_embeddings=response,\n",
    "            n_results=2,\n",
    "            where={\"name\": \"book-langchain\"}\n",
    "        )\n",
    "\n",
    "    data = results['documents'][0]\n",
    "    distance = results['distances']\n",
    "\n",
    "    print(data)\n",
    "    \n",
    "    for k in range(2):\n",
    "    \n",
    "        if distance[0][k] > 0.9:\n",
    "            data = \"Você é um assistente de chatbot e tem acesso limitado a informações. Nesse caso, diga que não tem conhecimento acerca da pergunta.\"\n",
    "\n",
    "    output = ollama.generate(\n",
    "            model=\"llama2\",\n",
    "            prompt=f\"Você é um chatbot assistente. Responda em português baseado somente nas seguintes informações: {data} e {chat_history}\"\n",
    "            )\n",
    "    \n",
    "    output = output['response']\n",
    "    print(output)\n",
    "    print(\"\\n\")\n",
    "\n",
    "    chat_history.append(f\"Human: {prompt}\\nAi: {output}\")\n",
    "    print(chat_history)"
   ]
  },
  {
   "cell_type": "code",
   "execution_count": null,
   "id": "534c8f95-efa0-4f15-8c5b-9128d3c00253",
   "metadata": {},
   "outputs": [],
   "source": []
  },
  {
   "cell_type": "code",
   "execution_count": null,
   "id": "b59116b4-6c66-4749-888b-237d7b7b3b18",
   "metadata": {},
   "outputs": [],
   "source": []
  },
  {
   "cell_type": "code",
   "execution_count": null,
   "id": "a7dd0ab6-3bed-4cf3-a2b6-a521417245c2",
   "metadata": {},
   "outputs": [],
   "source": []
  }
 ],
 "metadata": {
  "kernelspec": {
   "display_name": "Python 3 (ipykernel)",
   "language": "python",
   "name": "python3"
  },
  "language_info": {
   "codemirror_mode": {
    "name": "ipython",
    "version": 3
   },
   "file_extension": ".py",
   "mimetype": "text/x-python",
   "name": "python",
   "nbconvert_exporter": "python",
   "pygments_lexer": "ipython3",
   "version": "3.10.12"
  }
 },
 "nbformat": 4,
 "nbformat_minor": 5
}

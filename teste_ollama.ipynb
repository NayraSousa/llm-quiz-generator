{
 "cells": [
  {
   "cell_type": "code",
   "execution_count": 1,
   "metadata": {},
   "outputs": [],
   "source": [
    "from PyPDF2 import PdfReader\n",
    "import chromadb\n",
    "PATH = \"pdf/JavaBasico.pdf\"\n",
    "\n",
    "\n",
    "reader = PdfReader(PATH)\n",
    "        \n",
    "text_load = ''.join(page.extract_text() for page in reader.pages)\n",
    "\n",
    "client = chromadb.PersistentClient(path=\"chromadb\")\n",
    "collection = client.get_or_create_collection(name=\"vector-langchain\")\n",
    "history_collection = client.get_or_create_collection(name=\"chat_history\")"
   ]
  },
  {
   "cell_type": "code",
   "execution_count": 2,
   "metadata": {},
   "outputs": [],
   "source": [
    "text_split = []\n",
    "metadata=[]\n",
    "chunk_size = 512\n",
    "chunk_overlap = 100\n",
    "        \n",
    "for i in range(0, len(text_load), chunk_size):\n",
    "    start = i\n",
    "    end = i + chunk_size\n",
    "    if start != 0:\n",
    "        start = start - chunk_overlap\n",
    "        end =  end + chunk_overlap\n",
    "    text_split.append(text_load[start:end])\n",
    "    metadata.append({\"name\": \"book-langchain\", \"partition\": f\"{i}\"})\n",
    "    "
   ]
  },
  {
   "cell_type": "code",
   "execution_count": 3,
   "metadata": {},
   "outputs": [],
   "source": [
    "import ollama\n",
    "\n",
    "for i, d in enumerate(text_split):\n",
    "        response = ollama.embeddings(model=\"mxbai-embed-large\",\n",
    "                                       prompt=d)\n",
    "        \n",
    "        collection.add(\n",
    "                ids=[str(i)],\n",
    "                embeddings=response['embedding'],\n",
    "                documents=[d],\n",
    "                metadatas=metadata[i]\n",
    "    )"
   ]
  },
  {
   "cell_type": "code",
   "execution_count": 5,
   "metadata": {},
   "outputs": [
    {
     "name": "stdin",
     "output_type": "stream",
     "text": [
      "Pergunte algo o que é classe em orientação a objeto\n"
     ]
    },
    {
     "name": "stdout",
     "output_type": "stream",
     "text": [
      "[[106.46578216552734, 107.82245635986328]]\n",
      "\n",
      "\n",
      "['NTARES SOBRE CLASSES E \\nORIENTAÇÃO A OBJETO\\nVamos explicar mais alguns conceitos complementares sobre \\nclasses e orientação a objeto aplicando-os a classes que implementam programação gráﬁ  ca.\\nO primeiro conceito que vamos ver é o de anonymous inner \\nclass , que é uma forma de simpliﬁ  carmos uma classe já escrita por \\nmeio da criação de classes internas sem as mesmas estarem declaradas; funciona como se fosse uma chamada de método em que você coloca sua implementação em outra parte por questão de organização. Vamos ver a mesma classe anterior, mas agora com uma implementação de anonymous inner class :192 Governança: Gestão, Auditoria e Tecnologia da InformaçãoJava Básico e Orientação a Objeto  | Progr', 'são acessíveis tanto pela própria classe quanto por qualquer classe que tente acessá-los.\\n\\x81  Quando utilizado o modiﬁ  cador de acesso protected , os ele-\\nmentos da classe são acessíveis somente por classes no mesmo pacote da classe dos elementos.\\n\\x81  Quando utilizado o modiﬁ  cador de acesso private , os elemen-\\ntos da classe são acessíveis somente pela própria classe que os deﬁ niu.126 Governança: Gestão, Auditoria e Tecnologia da InformaçãoJava Básico e Orientação a Objeto  | Orientação a Objeto II\\nHERANÇA \\nHerança  é uma técnica da Orientação a Objeto cujo objetivo é \\ncriar um modelo com objetos do mundo real. Aqueles objetos que tem características mais genéricas são construídos de forma que os que ']\n",
      "Bem vindo! I'm here to help you with your question. However, I noticed that the text you provided is in English, and I'm a chatbot trained to respond in Portuguese. So, I'll do my best to provide an answer based on the context you provided, but please keep in mind that it may not be a direct translation of the original text.\n",
      "\n",
      "Regarding your question, anonymous inner classes are indeed a way to simplify code organization and structure. By using an anonymous inner class, you can define a class within another class without having to declare it separately. This can be useful when you want to define a class that only needs to exist within a specific context or scope.\n",
      "\n",
      "In the context of governance, auditing, and technology management, the use of anonymous inner classes can help simplify the code and make it more organized. For example, you could create an anonymous inner class to handle some functionality related to data analysis or reporting, without having to define a separate class for that purpose.\n",
      "\n",
      "In terms of access control, using protected modifiers can help restrict access to certain elements within a class, while private modifiers can provide even more restricted access control. Understanding the differences between these modifiers and how they can be used to manage access to class elements is an important aspect of object-oriented programming.\n",
      "\n",
      "I hope this helps clarify things! If you have any further questions or need additional clarification, feel free to ask.\n"
     ]
    },
    {
     "name": "stderr",
     "output_type": "stream",
     "text": [
      "Add of existing embedding ID: 0\n",
      "Insert of existing embedding ID: 0\n"
     ]
    },
    {
     "name": "stdout",
     "output_type": "stream",
     "text": [
      "<chromadb.api.models.Collection.Collection object at 0x791d6c0c7190>\n"
     ]
    },
    {
     "name": "stdin",
     "output_type": "stream",
     "text": [
      "Pergunte algo responda em portugues o que é classe em orientação a objeto\n"
     ]
    },
    {
     "name": "stdout",
     "output_type": "stream",
     "text": [
      "[[118.79826354980469, 120.49310302734375]]\n",
      "\n",
      "\n",
      "Você é um assistente de chatbot e tem acesso limitado a informações. Nesse caso, diga que não tem conhecimento acerca da pergunta.\n",
      " Claro! Então, como assistente de chatbot, posso dizer que não tenho acesso a informações sobre a pergunta que você me fez. Desculpe, não posso fornecer mais detalhes neste momento. Is there anything else I can help you with?\n"
     ]
    },
    {
     "name": "stderr",
     "output_type": "stream",
     "text": [
      "Add of existing embedding ID: 1\n",
      "Insert of existing embedding ID: 1\n"
     ]
    },
    {
     "name": "stdout",
     "output_type": "stream",
     "text": [
      "<chromadb.api.models.Collection.Collection object at 0x791d6c0c7190>\n"
     ]
    }
   ],
   "source": [
    "chat_history = []\n",
    "\n",
    "for i in range(2):\n",
    "\n",
    "    prompt = input(\"Pergunte algo\")\n",
    "\n",
    "    response = ollama.embeddings(\n",
    "        prompt=prompt,\n",
    "        model=\"mxbai-embed-large\"\n",
    "    )\n",
    "\n",
    "    results = collection.query(\n",
    "        query_embeddings=[response[\"embedding\"]],\n",
    "        n_results=2,\n",
    "        where={\"name\": \"book-langchain\"}\n",
    "    )\n",
    "    \n",
    "    data = results['documents'][0]\n",
    "    distance = results['distances']\n",
    "\n",
    "    print(distance)\n",
    "    \n",
    "\n",
    "    for k in range(2):\n",
    "        if distance[0][k] > 120:\n",
    "            data = \"Você é um assistente de chatbot e tem acesso limitado a informações. Nesse caso, diga que não tem conhecimento acerca da pergunta.\"\n",
    "    print(\"\\n\")\n",
    "    print(data)\n",
    "    output = ollama.generate(\n",
    "        model=\"llama2\",\n",
    "        prompt=f\"\"\"You are a chatbot assistant. \n",
    "\n",
    "                Answer in portuguese the question based only on the context below:    \n",
    "                {data}\n",
    "\n",
    "        \"\"\"\n",
    "    )\n",
    "    output = output['response']\n",
    "    print(output)\n",
    "    chat_history.append(f\"Human: {prompt}\\nAi: {output}\")\n",
    "\n",
    "    response = ollama.embeddings(model=\"mxbai-embed-large\",\n",
    "                                       prompt=chat_history[i])\n",
    "\n",
    "    history_collection.add(\n",
    "                ids=[str(i)],\n",
    "                embeddings=response['embedding'],\n",
    "                documents=[chat_history]\n",
    "    )\n",
    "    print(history_collection)"
   ]
  },
  {
   "cell_type": "code",
   "execution_count": 7,
   "metadata": {},
   "outputs": [
    {
     "name": "stdout",
     "output_type": "stream",
     "text": [
      " Desculpe, como assistente de chatbot, tenho acesso limitado às informações e não posso fornecer respostas detalhadas sobre uma pergunta específica. Peço desculpas pela falta de informação.\n"
     ]
    }
   ],
   "source": []
  }
 ],
 "metadata": {
  "kernelspec": {
   "display_name": "Python 3 (ipykernel)",
   "language": "python",
   "name": "python3"
  },
  "language_info": {
   "codemirror_mode": {
    "name": "ipython",
    "version": 3
   },
   "file_extension": ".py",
   "mimetype": "text/x-python",
   "name": "python",
   "nbconvert_exporter": "python",
   "pygments_lexer": "ipython3",
   "version": "3.10.12"
  }
 },
 "nbformat": 4,
 "nbformat_minor": 4
}
